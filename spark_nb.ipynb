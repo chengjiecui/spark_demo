{
 "cells": [
  {
   "cell_type": "code",
   "execution_count": 68,
   "metadata": {},
   "outputs": [],
   "source": [
    "from pyspark.sql import SparkSession\n",
    "from pyspark.sql.functions import avg, col, concat, count, desc, explode, lit, min, max, split, stddev, udf\n",
    "from pyspark.sql.types import IntegerType\n",
    "\n",
    "from pyspark.ml.feature import RegexTokenizer, VectorAssembler, Normalizer, StandardScaler, \\\n",
    "    RegexTokenizer, CountVectorizer,IDF, StringIndexer, PCA, StopWordsRemover\n",
    "from pyspark.ml.regression import LinearRegression\n",
    "from pyspark.ml.classification import LogisticRegression\n",
    "from pyspark.ml.clustering import KMeans\n",
    "from pyspark.ml import Pipeline\n",
    "from pyspark.ml.tuning import CrossValidator, ParamGridBuilder\n",
    "from pyspark.ml.evaluation import MulticlassClassificationEvaluator\n",
    "\n",
    "import re"
   ]
  },
  {
   "cell_type": "code",
   "execution_count": 3,
   "metadata": {},
   "outputs": [],
   "source": [
    "# create a SparkSession: note this step was left out of the screencast\n",
    "spark = SparkSession.builder \\\n",
    "    .master(\"local\") \\\n",
    "    .appName(\"spark_nb\") \\\n",
    "    .getOrCreate()"
   ]
  },
  {
   "cell_type": "markdown",
   "metadata": {},
   "source": [
    "# Read in the Data Set"
   ]
  },
  {
   "cell_type": "code",
   "execution_count": 4,
   "metadata": {},
   "outputs": [],
   "source": [
    "stack_overflow_data = '../spark_project_data/Train_onetag_small.json'\n",
    "df = spark.read.json(stack_overflow_data)\n",
    "df.persist()"
   ]
  },
  {
   "cell_type": "code",
   "execution_count": 5,
   "metadata": {},
   "outputs": [
    {
     "data": {
      "text/plain": [
       "Row(Body=\"<p>I'd like to check if an uploaded file is an image file (e.g png, jpg, jpeg, gif, bmp) or another file. The problem is that I'm using Uploadify to upload the files, which changes the mime type and gives a 'text/octal' or something as the mime type, no matter which file type you upload.</p>\\n\\n<p>Is there a way to check if the uploaded file is an image apart from checking the file extension using PHP?</p>\\n\", Id=1, Tags='php image-processing file-upload upload mime-types', Title='How to check if an uploaded file is an image without mime type?', oneTag='php')"
      ]
     },
     "execution_count": 5,
     "metadata": {},
     "output_type": "execute_result"
    }
   ],
   "source": [
    "df.head()"
   ]
  },
  {
   "cell_type": "markdown",
   "metadata": {},
   "source": [
    "# Tokenization\n",
    "\n",
    "Tokenization splits strings into separate words. Spark has a [Tokenizer](https://spark.apache.org/docs/latest/ml-features.html#tokenizer) class as well as RegexTokenizer, which allows for more control over the tokenization process."
   ]
  },
  {
   "cell_type": "code",
   "execution_count": 6,
   "metadata": {},
   "outputs": [
    {
     "data": {
      "text/plain": [
       "Row(Body=\"<p>I'd like to check if an uploaded file is an image file (e.g png, jpg, jpeg, gif, bmp) or another file. The problem is that I'm using Uploadify to upload the files, which changes the mime type and gives a 'text/octal' or something as the mime type, no matter which file type you upload.</p>\\n\\n<p>Is there a way to check if the uploaded file is an image apart from checking the file extension using PHP?</p>\\n\", Id=1, Tags='php image-processing file-upload upload mime-types', Title='How to check if an uploaded file is an image without mime type?', oneTag='php', words=['p', 'i', 'd', 'like', 'to', 'check', 'if', 'an', 'uploaded', 'file', 'is', 'an', 'image', 'file', 'e', 'g', 'png', 'jpg', 'jpeg', 'gif', 'bmp', 'or', 'another', 'file', 'the', 'problem', 'is', 'that', 'i', 'm', 'using', 'uploadify', 'to', 'upload', 'the', 'files', 'which', 'changes', 'the', 'mime', 'type', 'and', 'gives', 'a', 'text', 'octal', 'or', 'something', 'as', 'the', 'mime', 'type', 'no', 'matter', 'which', 'file', 'type', 'you', 'upload', 'p', 'p', 'is', 'there', 'a', 'way', 'to', 'check', 'if', 'the', 'uploaded', 'file', 'is', 'an', 'image', 'apart', 'from', 'checking', 'the', 'file', 'extension', 'using', 'php', 'p'])"
      ]
     },
     "execution_count": 6,
     "metadata": {},
     "output_type": "execute_result"
    }
   ],
   "source": [
    "# split the body text into separate words\n",
    "regexTokenizer = RegexTokenizer(inputCol=\"Body\", outputCol=\"words\", pattern=\"\\\\W\")\n",
    "df = regexTokenizer.transform(df)\n",
    "df.head()"
   ]
  },
  {
   "cell_type": "code",
   "execution_count": 8,
   "metadata": {},
   "outputs": [],
   "source": [
    "# count the number of words in each body tag\n",
    "body_length = udf(lambda x: len(x), IntegerType())\n",
    "df = df.withColumn(\"BodyLength\", body_length(df.words))"
   ]
  },
  {
   "cell_type": "code",
   "execution_count": 10,
   "metadata": {},
   "outputs": [],
   "source": [
    "# count the number of paragraphs and links in each body tag\n",
    "number_of_paragraphs = udf(lambda x: len(re.findall(\"</p>\", x)), IntegerType())\n",
    "number_of_links = udf(lambda x: len(re.findall(\"</a>\", x)), IntegerType())"
   ]
  },
  {
   "cell_type": "code",
   "execution_count": 11,
   "metadata": {},
   "outputs": [],
   "source": [
    "df = df.withColumn(\"NumParagraphs\", number_of_paragraphs(df.Body))\n",
    "df = df.withColumn(\"NumLinks\", number_of_links(df.Body))"
   ]
  },
  {
   "cell_type": "code",
   "execution_count": 12,
   "metadata": {},
   "outputs": [
    {
     "data": {
      "text/plain": [
       "[Row(Body=\"<p>I'd like to check if an uploaded file is an image file (e.g png, jpg, jpeg, gif, bmp) or another file. The problem is that I'm using Uploadify to upload the files, which changes the mime type and gives a 'text/octal' or something as the mime type, no matter which file type you upload.</p>\\n\\n<p>Is there a way to check if the uploaded file is an image apart from checking the file extension using PHP?</p>\\n\", Id=1, Tags='php image-processing file-upload upload mime-types', Title='How to check if an uploaded file is an image without mime type?', oneTag='php', words=['p', 'i', 'd', 'like', 'to', 'check', 'if', 'an', 'uploaded', 'file', 'is', 'an', 'image', 'file', 'e', 'g', 'png', 'jpg', 'jpeg', 'gif', 'bmp', 'or', 'another', 'file', 'the', 'problem', 'is', 'that', 'i', 'm', 'using', 'uploadify', 'to', 'upload', 'the', 'files', 'which', 'changes', 'the', 'mime', 'type', 'and', 'gives', 'a', 'text', 'octal', 'or', 'something', 'as', 'the', 'mime', 'type', 'no', 'matter', 'which', 'file', 'type', 'you', 'upload', 'p', 'p', 'is', 'there', 'a', 'way', 'to', 'check', 'if', 'the', 'uploaded', 'file', 'is', 'an', 'image', 'apart', 'from', 'checking', 'the', 'file', 'extension', 'using', 'php', 'p'], BodyLength=83, NumParagraphs=2, NumLinks=0),\n",
       " Row(Body='<p>In my favorite editor (vim), I regularly use ctrl-w to execute a certain action. Now, it quite often happens to me that firefox is the active window (on windows) while I still look at vim (thinking vim is the active window) and press ctrl-w which closes firefox. This is not what I want. Is there a way to stop ctrl-w from closing firefox?</p>\\n\\n<p>Rene</p>\\n', Id=2, Tags='firefox', Title='How can I prevent firefox from closing when I press ctrl-w', oneTag='firefox', words=['p', 'in', 'my', 'favorite', 'editor', 'vim', 'i', 'regularly', 'use', 'ctrl', 'w', 'to', 'execute', 'a', 'certain', 'action', 'now', 'it', 'quite', 'often', 'happens', 'to', 'me', 'that', 'firefox', 'is', 'the', 'active', 'window', 'on', 'windows', 'while', 'i', 'still', 'look', 'at', 'vim', 'thinking', 'vim', 'is', 'the', 'active', 'window', 'and', 'press', 'ctrl', 'w', 'which', 'closes', 'firefox', 'this', 'is', 'not', 'what', 'i', 'want', 'is', 'there', 'a', 'way', 'to', 'stop', 'ctrl', 'w', 'from', 'closing', 'firefox', 'p', 'p', 'rene', 'p'], BodyLength=71, NumParagraphs=2, NumLinks=0)]"
      ]
     },
     "execution_count": 12,
     "metadata": {},
     "output_type": "execute_result"
    }
   ],
   "source": [
    "df.head(2)"
   ]
  },
  {
   "cell_type": "markdown",
   "metadata": {},
   "source": [
    "# VectorAssembler\n",
    "\n",
    "Combine the body length, number of paragraphs, and number of links columns into a vector"
   ]
  },
  {
   "cell_type": "code",
   "execution_count": 13,
   "metadata": {},
   "outputs": [],
   "source": [
    "assembler = VectorAssembler(inputCols=[\"BodyLength\", \"NumParagraphs\", \"NumLinks\"], outputCol=\"NumFeatures\")\n",
    "df = assembler.transform(df)"
   ]
  },
  {
   "cell_type": "code",
   "execution_count": 14,
   "metadata": {},
   "outputs": [
    {
     "data": {
      "text/plain": [
       "Row(Body=\"<p>I'd like to check if an uploaded file is an image file (e.g png, jpg, jpeg, gif, bmp) or another file. The problem is that I'm using Uploadify to upload the files, which changes the mime type and gives a 'text/octal' or something as the mime type, no matter which file type you upload.</p>\\n\\n<p>Is there a way to check if the uploaded file is an image apart from checking the file extension using PHP?</p>\\n\", Id=1, Tags='php image-processing file-upload upload mime-types', Title='How to check if an uploaded file is an image without mime type?', oneTag='php', words=['p', 'i', 'd', 'like', 'to', 'check', 'if', 'an', 'uploaded', 'file', 'is', 'an', 'image', 'file', 'e', 'g', 'png', 'jpg', 'jpeg', 'gif', 'bmp', 'or', 'another', 'file', 'the', 'problem', 'is', 'that', 'i', 'm', 'using', 'uploadify', 'to', 'upload', 'the', 'files', 'which', 'changes', 'the', 'mime', 'type', 'and', 'gives', 'a', 'text', 'octal', 'or', 'something', 'as', 'the', 'mime', 'type', 'no', 'matter', 'which', 'file', 'type', 'you', 'upload', 'p', 'p', 'is', 'there', 'a', 'way', 'to', 'check', 'if', 'the', 'uploaded', 'file', 'is', 'an', 'image', 'apart', 'from', 'checking', 'the', 'file', 'extension', 'using', 'php', 'p'], BodyLength=83, NumParagraphs=2, NumLinks=0, NumFeatures=DenseVector([83.0, 2.0, 0.0]))"
      ]
     },
     "execution_count": 14,
     "metadata": {},
     "output_type": "execute_result"
    }
   ],
   "source": [
    "df.head()"
   ]
  },
  {
   "cell_type": "markdown",
   "metadata": {},
   "source": [
    "# Normalize the Vectors"
   ]
  },
  {
   "cell_type": "code",
   "execution_count": 15,
   "metadata": {},
   "outputs": [],
   "source": [
    "scaler = Normalizer(inputCol=\"NumFeatures\", outputCol=\"ScaledNumFeatures\")\n",
    "df = scaler.transform(df)"
   ]
  },
  {
   "cell_type": "code",
   "execution_count": 16,
   "metadata": {},
   "outputs": [
    {
     "data": {
      "text/plain": [
       "[Row(Body=\"<p>I'd like to check if an uploaded file is an image file (e.g png, jpg, jpeg, gif, bmp) or another file. The problem is that I'm using Uploadify to upload the files, which changes the mime type and gives a 'text/octal' or something as the mime type, no matter which file type you upload.</p>\\n\\n<p>Is there a way to check if the uploaded file is an image apart from checking the file extension using PHP?</p>\\n\", Id=1, Tags='php image-processing file-upload upload mime-types', Title='How to check if an uploaded file is an image without mime type?', oneTag='php', words=['p', 'i', 'd', 'like', 'to', 'check', 'if', 'an', 'uploaded', 'file', 'is', 'an', 'image', 'file', 'e', 'g', 'png', 'jpg', 'jpeg', 'gif', 'bmp', 'or', 'another', 'file', 'the', 'problem', 'is', 'that', 'i', 'm', 'using', 'uploadify', 'to', 'upload', 'the', 'files', 'which', 'changes', 'the', 'mime', 'type', 'and', 'gives', 'a', 'text', 'octal', 'or', 'something', 'as', 'the', 'mime', 'type', 'no', 'matter', 'which', 'file', 'type', 'you', 'upload', 'p', 'p', 'is', 'there', 'a', 'way', 'to', 'check', 'if', 'the', 'uploaded', 'file', 'is', 'an', 'image', 'apart', 'from', 'checking', 'the', 'file', 'extension', 'using', 'php', 'p'], BodyLength=83, NumParagraphs=2, NumLinks=0, NumFeatures=DenseVector([83.0, 2.0, 0.0]), ScaledNumFeatures=DenseVector([0.9997, 0.0241, 0.0])),\n",
       " Row(Body='<p>In my favorite editor (vim), I regularly use ctrl-w to execute a certain action. Now, it quite often happens to me that firefox is the active window (on windows) while I still look at vim (thinking vim is the active window) and press ctrl-w which closes firefox. This is not what I want. Is there a way to stop ctrl-w from closing firefox?</p>\\n\\n<p>Rene</p>\\n', Id=2, Tags='firefox', Title='How can I prevent firefox from closing when I press ctrl-w', oneTag='firefox', words=['p', 'in', 'my', 'favorite', 'editor', 'vim', 'i', 'regularly', 'use', 'ctrl', 'w', 'to', 'execute', 'a', 'certain', 'action', 'now', 'it', 'quite', 'often', 'happens', 'to', 'me', 'that', 'firefox', 'is', 'the', 'active', 'window', 'on', 'windows', 'while', 'i', 'still', 'look', 'at', 'vim', 'thinking', 'vim', 'is', 'the', 'active', 'window', 'and', 'press', 'ctrl', 'w', 'which', 'closes', 'firefox', 'this', 'is', 'not', 'what', 'i', 'want', 'is', 'there', 'a', 'way', 'to', 'stop', 'ctrl', 'w', 'from', 'closing', 'firefox', 'p', 'p', 'rene', 'p'], BodyLength=71, NumParagraphs=2, NumLinks=0, NumFeatures=DenseVector([71.0, 2.0, 0.0]), ScaledNumFeatures=DenseVector([0.9996, 0.0282, 0.0]))]"
      ]
     },
     "execution_count": 16,
     "metadata": {},
     "output_type": "execute_result"
    }
   ],
   "source": [
    "df.head(2)"
   ]
  },
  {
   "cell_type": "markdown",
   "metadata": {},
   "source": [
    "# Scale the Vectors"
   ]
  },
  {
   "cell_type": "code",
   "execution_count": 17,
   "metadata": {},
   "outputs": [],
   "source": [
    "scaler2 = StandardScaler(inputCol=\"NumFeatures\", outputCol=\"ScaledNumFeatures2\", withStd=True)\n",
    "scalerModel = scaler2.fit(df)\n",
    "df = scalerModel.transform(df)"
   ]
  },
  {
   "cell_type": "code",
   "execution_count": 18,
   "metadata": {},
   "outputs": [
    {
     "data": {
      "text/plain": [
       "[Row(Body=\"<p>I'd like to check if an uploaded file is an image file (e.g png, jpg, jpeg, gif, bmp) or another file. The problem is that I'm using Uploadify to upload the files, which changes the mime type and gives a 'text/octal' or something as the mime type, no matter which file type you upload.</p>\\n\\n<p>Is there a way to check if the uploaded file is an image apart from checking the file extension using PHP?</p>\\n\", Id=1, Tags='php image-processing file-upload upload mime-types', Title='How to check if an uploaded file is an image without mime type?', oneTag='php', words=['p', 'i', 'd', 'like', 'to', 'check', 'if', 'an', 'uploaded', 'file', 'is', 'an', 'image', 'file', 'e', 'g', 'png', 'jpg', 'jpeg', 'gif', 'bmp', 'or', 'another', 'file', 'the', 'problem', 'is', 'that', 'i', 'm', 'using', 'uploadify', 'to', 'upload', 'the', 'files', 'which', 'changes', 'the', 'mime', 'type', 'and', 'gives', 'a', 'text', 'octal', 'or', 'something', 'as', 'the', 'mime', 'type', 'no', 'matter', 'which', 'file', 'type', 'you', 'upload', 'p', 'p', 'is', 'there', 'a', 'way', 'to', 'check', 'if', 'the', 'uploaded', 'file', 'is', 'an', 'image', 'apart', 'from', 'checking', 'the', 'file', 'extension', 'using', 'php', 'p'], BodyLength=83, NumParagraphs=2, NumLinks=0, NumFeatures=DenseVector([83.0, 2.0, 0.0]), ScaledNumFeatures=DenseVector([0.9997, 0.0241, 0.0]), ScaledNumFeatures2=DenseVector([0.4325, 0.7037, 0.0])),\n",
       " Row(Body='<p>In my favorite editor (vim), I regularly use ctrl-w to execute a certain action. Now, it quite often happens to me that firefox is the active window (on windows) while I still look at vim (thinking vim is the active window) and press ctrl-w which closes firefox. This is not what I want. Is there a way to stop ctrl-w from closing firefox?</p>\\n\\n<p>Rene</p>\\n', Id=2, Tags='firefox', Title='How can I prevent firefox from closing when I press ctrl-w', oneTag='firefox', words=['p', 'in', 'my', 'favorite', 'editor', 'vim', 'i', 'regularly', 'use', 'ctrl', 'w', 'to', 'execute', 'a', 'certain', 'action', 'now', 'it', 'quite', 'often', 'happens', 'to', 'me', 'that', 'firefox', 'is', 'the', 'active', 'window', 'on', 'windows', 'while', 'i', 'still', 'look', 'at', 'vim', 'thinking', 'vim', 'is', 'the', 'active', 'window', 'and', 'press', 'ctrl', 'w', 'which', 'closes', 'firefox', 'this', 'is', 'not', 'what', 'i', 'want', 'is', 'there', 'a', 'way', 'to', 'stop', 'ctrl', 'w', 'from', 'closing', 'firefox', 'p', 'p', 'rene', 'p'], BodyLength=71, NumParagraphs=2, NumLinks=0, NumFeatures=DenseVector([71.0, 2.0, 0.0]), ScaledNumFeatures=DenseVector([0.9996, 0.0282, 0.0]), ScaledNumFeatures2=DenseVector([0.3699, 0.7037, 0.0]))]"
      ]
     },
     "execution_count": 18,
     "metadata": {},
     "output_type": "execute_result"
    }
   ],
   "source": [
    "df.head(2)"
   ]
  },
  {
   "cell_type": "markdown",
   "metadata": {},
   "source": [
    "# CountVectorizer"
   ]
  },
  {
   "cell_type": "code",
   "execution_count": 21,
   "metadata": {},
   "outputs": [
    {
     "data": {
      "text/plain": [
       "[Row(Body=\"<p>I'd like to check if an uploaded file is an image file (e.g png, jpg, jpeg, gif, bmp) or another file. The problem is that I'm using Uploadify to upload the files, which changes the mime type and gives a 'text/octal' or something as the mime type, no matter which file type you upload.</p>\\n\\n<p>Is there a way to check if the uploaded file is an image apart from checking the file extension using PHP?</p>\\n\", Id=1, Tags='php image-processing file-upload upload mime-types', Title='How to check if an uploaded file is an image without mime type?', oneTag='php', words=['p', 'i', 'd', 'like', 'to', 'check', 'if', 'an', 'uploaded', 'file', 'is', 'an', 'image', 'file', 'e', 'g', 'png', 'jpg', 'jpeg', 'gif', 'bmp', 'or', 'another', 'file', 'the', 'problem', 'is', 'that', 'i', 'm', 'using', 'uploadify', 'to', 'upload', 'the', 'files', 'which', 'changes', 'the', 'mime', 'type', 'and', 'gives', 'a', 'text', 'octal', 'or', 'something', 'as', 'the', 'mime', 'type', 'no', 'matter', 'which', 'file', 'type', 'you', 'upload', 'p', 'p', 'is', 'there', 'a', 'way', 'to', 'check', 'if', 'the', 'uploaded', 'file', 'is', 'an', 'image', 'apart', 'from', 'checking', 'the', 'file', 'extension', 'using', 'php', 'p'], BodyLength=83, NumParagraphs=2, NumLinks=0, NumFeatures=DenseVector([83.0, 2.0, 0.0]), ScaledNumFeatures=DenseVector([0.9997, 0.0241, 0.0]), ScaledNumFeatures2=DenseVector([0.4325, 0.7037, 0.0]), TF=SparseVector(1000, {0: 4.0, 1: 6.0, 2: 2.0, 3: 3.0, 5: 2.0, 8: 4.0, 9: 1.0, 15: 1.0, 21: 2.0, 28: 1.0, 31: 1.0, 35: 3.0, 36: 1.0, 43: 2.0, 45: 2.0, 48: 1.0, 51: 1.0, 57: 6.0, 61: 2.0, 71: 1.0, 78: 1.0, 84: 3.0, 86: 1.0, 94: 1.0, 97: 1.0, 99: 1.0, 100: 1.0, 115: 1.0, 147: 2.0, 152: 1.0, 169: 1.0, 241: 1.0, 283: 1.0, 306: 1.0, 350: 2.0, 490: 1.0, 578: 1.0, 759: 1.0, 832: 2.0}))]"
      ]
     },
     "execution_count": 21,
     "metadata": {},
     "output_type": "execute_result"
    }
   ],
   "source": [
    "# find the term frequencies of the words\n",
    "cv = CountVectorizer(inputCol=\"words\", outputCol=\"TF\", vocabSize=1000)\n",
    "cvmodel = cv.fit(df)\n",
    "df = cvmodel.transform(df)\n",
    "df.take(1)"
   ]
  },
  {
   "cell_type": "code",
   "execution_count": 22,
   "metadata": {},
   "outputs": [
    {
     "data": {
      "text/plain": [
       "['p',\n",
       " 'the',\n",
       " 'i',\n",
       " 'to',\n",
       " 'code',\n",
       " 'a',\n",
       " 'gt',\n",
       " 'lt',\n",
       " 'is',\n",
       " 'and',\n",
       " 'pre',\n",
       " 'in',\n",
       " 'this',\n",
       " 'of',\n",
       " 'it',\n",
       " 'that',\n",
       " 'for',\n",
       " '0',\n",
       " '1',\n",
       " 'have',\n",
       " 'my',\n",
       " 'if',\n",
       " 'on',\n",
       " 'but',\n",
       " 'with',\n",
       " 'can',\n",
       " 'not',\n",
       " 'be',\n",
       " 'as',\n",
       " 't',\n",
       " 'li',\n",
       " 'from',\n",
       " '2',\n",
       " 's',\n",
       " 'http',\n",
       " 'an',\n",
       " 'm',\n",
       " 'strong',\n",
       " 'new',\n",
       " 'how',\n",
       " 'do',\n",
       " 'com',\n",
       " 'so',\n",
       " 'or',\n",
       " 'at',\n",
       " 'using',\n",
       " 'when',\n",
       " 'am',\n",
       " 'like',\n",
       " 'class',\n",
       " 'id',\n",
       " 'there',\n",
       " 'get',\n",
       " 'are',\n",
       " 'name',\n",
       " 'what',\n",
       " 'any',\n",
       " 'file',\n",
       " 'string',\n",
       " 'data',\n",
       " 'all',\n",
       " 'which',\n",
       " 'want',\n",
       " 'would',\n",
       " 'amp',\n",
       " 'use',\n",
       " 'java',\n",
       " 'function',\n",
       " 'public',\n",
       " 'some',\n",
       " '3',\n",
       " 'text',\n",
       " 'error',\n",
       " 'android',\n",
       " 'value',\n",
       " 'c',\n",
       " 'x',\n",
       " 'href',\n",
       " 'you',\n",
       " 'one',\n",
       " 'by',\n",
       " 'user',\n",
       " 'me',\n",
       " 'server',\n",
       " 'type',\n",
       " 'here',\n",
       " 'way',\n",
       " 'return',\n",
       " 'int',\n",
       " 'will',\n",
       " 'div',\n",
       " 'need',\n",
       " 'then',\n",
       " 'set',\n",
       " 'e',\n",
       " 'system',\n",
       " 'has',\n",
       " 'problem',\n",
       " 'out',\n",
       " 'php',\n",
       " 'no',\n",
       " 'just',\n",
       " '4',\n",
       " 'org',\n",
       " 'know',\n",
       " 'html',\n",
       " 'only',\n",
       " 'where',\n",
       " 'page',\n",
       " 'application',\n",
       " '5',\n",
       " 'thanks',\n",
       " 'var',\n",
       " 'br',\n",
       " 'we',\n",
       " 'd',\n",
       " 'should',\n",
       " 'does',\n",
       " 'add',\n",
       " 'n',\n",
       " 'true',\n",
       " 've',\n",
       " 'void',\n",
       " 'em',\n",
       " 'was',\n",
       " 'rel',\n",
       " 'work',\n",
       " 'time',\n",
       " 'other',\n",
       " '10',\n",
       " 'app',\n",
       " 'null',\n",
       " 'method',\n",
       " 'b',\n",
       " 'table',\n",
       " 'list',\n",
       " 'now',\n",
       " 'into',\n",
       " 'help',\n",
       " 'end',\n",
       " 'trying',\n",
       " 'following',\n",
       " 'object',\n",
       " 'view',\n",
       " 'nofollow',\n",
       " 'up',\n",
       " 'example',\n",
       " 'image',\n",
       " 'same',\n",
       " 'create',\n",
       " 'also',\n",
       " 'each',\n",
       " 'something',\n",
       " 'www',\n",
       " 'web',\n",
       " 'first',\n",
       " 'array',\n",
       " 'line',\n",
       " 'script',\n",
       " 'find',\n",
       " 'don',\n",
       " 'run',\n",
       " 'could',\n",
       " 'select',\n",
       " 'about',\n",
       " 'test',\n",
       " 'make',\n",
       " 'form',\n",
       " 'r',\n",
       " 'files',\n",
       " 'tried',\n",
       " 'ul',\n",
       " 'net',\n",
       " 'url',\n",
       " 'td',\n",
       " 'self',\n",
       " 'input',\n",
       " 'windows',\n",
       " 'button',\n",
       " 'see',\n",
       " 'blockquote',\n",
       " 'database',\n",
       " 'question',\n",
       " 'content',\n",
       " 'else',\n",
       " 'more',\n",
       " 'works',\n",
       " 'xml',\n",
       " '6',\n",
       " '00',\n",
       " 'two',\n",
       " '8',\n",
       " 'after',\n",
       " 'they',\n",
       " 'possible',\n",
       " 'false',\n",
       " 'right',\n",
       " 'them',\n",
       " 'y',\n",
       " 'working',\n",
       " '7',\n",
       " 'width',\n",
       " 'main',\n",
       " 'src',\n",
       " 'try',\n",
       " 'private',\n",
       " 'however',\n",
       " 'version',\n",
       " 'number',\n",
       " 'f',\n",
       " 'result',\n",
       " 'these',\n",
       " 'because',\n",
       " 'project',\n",
       " 'key',\n",
       " 'message',\n",
       " 'why',\n",
       " 'doesn',\n",
       " 'used',\n",
       " 'please',\n",
       " 'query',\n",
       " 'import',\n",
       " 'size',\n",
       " 'item',\n",
       " 'call',\n",
       " 'show',\n",
       " 'while',\n",
       " 'title',\n",
       " 'found',\n",
       " 'been',\n",
       " 'anyone',\n",
       " 'change',\n",
       " 'post',\n",
       " 'document',\n",
       " 'users',\n",
       " 'different',\n",
       " 'its',\n",
       " 'start',\n",
       " 'able',\n",
       " 'log',\n",
       " 'access',\n",
       " 'another',\n",
       " 'event',\n",
       " 'case',\n",
       " 'request',\n",
       " 'values',\n",
       " 'update',\n",
       " 'client',\n",
       " 'edit',\n",
       " 'index',\n",
       " '9',\n",
       " 'service',\n",
       " 'read',\n",
       " 'without',\n",
       " 'source',\n",
       " 'javascript',\n",
       " 'left',\n",
       " 'style',\n",
       " 'open',\n",
       " 'jquery',\n",
       " 'img',\n",
       " 'running',\n",
       " 'row',\n",
       " 'h',\n",
       " 'display',\n",
       " 'fine',\n",
       " 'write',\n",
       " 'site',\n",
       " 'google',\n",
       " 'seems',\n",
       " 'height',\n",
       " 'click',\n",
       " 'date',\n",
       " '12',\n",
       " 'static',\n",
       " 'etc',\n",
       " 'option',\n",
       " 'path',\n",
       " 'output',\n",
       " 'property',\n",
       " '20',\n",
       " 'doing',\n",
       " 'model',\n",
       " 'g',\n",
       " 'default',\n",
       " 'link',\n",
       " 'than',\n",
       " 'through',\n",
       " 'echo',\n",
       " 'below',\n",
       " 'include',\n",
       " 'even',\n",
       " 'solution',\n",
       " 'lib',\n",
       " '11',\n",
       " 'sql',\n",
       " 'questions',\n",
       " 'still',\n",
       " 'program',\n",
       " 'such',\n",
       " 'library',\n",
       " 'getting',\n",
       " 'exception',\n",
       " 'created',\n",
       " 'simple',\n",
       " 'context',\n",
       " 'png',\n",
       " 'your',\n",
       " 'very',\n",
       " 'before',\n",
       " 'apache',\n",
       " 'both',\n",
       " 'ol',\n",
       " 'sure',\n",
       " '100',\n",
       " 'order',\n",
       " 'asp',\n",
       " 'command',\n",
       " 'field',\n",
       " 'color',\n",
       " 'window',\n",
       " 'images',\n",
       " 'column',\n",
       " 'load',\n",
       " 'having',\n",
       " 'thread',\n",
       " 'background',\n",
       " 'think',\n",
       " 'js',\n",
       " 'wrong',\n",
       " 'go',\n",
       " 'point',\n",
       " 'element',\n",
       " 'process',\n",
       " 'length',\n",
       " 'really',\n",
       " 'tr',\n",
       " 'span',\n",
       " 'being',\n",
       " 'every',\n",
       " 'back',\n",
       " 'current',\n",
       " 'called',\n",
       " 'css',\n",
       " 'label',\n",
       " 'action',\n",
       " 'issue',\n",
       " 'many',\n",
       " 'info',\n",
       " 'stack',\n",
       " 'check',\n",
       " 'got',\n",
       " 'top',\n",
       " 'since',\n",
       " 'connection',\n",
       " 'looking',\n",
       " 'put',\n",
       " 'second',\n",
       " 'search',\n",
       " 'db',\n",
       " 'local',\n",
       " 'over',\n",
       " 'email',\n",
       " 'above',\n",
       " 'password',\n",
       " 'done',\n",
       " 'api',\n",
       " 'between',\n",
       " 'response',\n",
       " 'build',\n",
       " 'cannot',\n",
       " 'alt',\n",
       " 'print',\n",
       " 'j',\n",
       " 'well',\n",
       " 'body',\n",
       " 'directory',\n",
       " 'count',\n",
       " 'description',\n",
       " 'location',\n",
       " 'information',\n",
       " 'next',\n",
       " 'address',\n",
       " 'root',\n",
       " 'good',\n",
       " '01',\n",
       " 'let',\n",
       " 'control',\n",
       " 'o',\n",
       " 'microsoft',\n",
       " 'part',\n",
       " 'map',\n",
       " 'advance',\n",
       " 'instead',\n",
       " 'our',\n",
       " 'v',\n",
       " 'much',\n",
       " 'their',\n",
       " 'best',\n",
       " 'position',\n",
       " '2012',\n",
       " 'idea',\n",
       " 'custom',\n",
       " 'format',\n",
       " 'mysql',\n",
       " 'already',\n",
       " 'say',\n",
       " 'long',\n",
       " 'instance',\n",
       " 'variable',\n",
       " 'send',\n",
       " '13',\n",
       " '16',\n",
       " 'may',\n",
       " 'currently',\n",
       " 'results',\n",
       " 'inside',\n",
       " '15',\n",
       " 'k',\n",
       " 'header',\n",
       " 'enter',\n",
       " 'items',\n",
       " 'correct',\n",
       " 'home',\n",
       " 'controller',\n",
       " 'domain',\n",
       " 'node',\n",
       " 'z',\n",
       " 'override',\n",
       " 'based',\n",
       " '30',\n",
       " 'seem',\n",
       " 'group',\n",
       " 'options',\n",
       " 'last',\n",
       " 'ui',\n",
       " 'added',\n",
       " 'screen',\n",
       " 'someone',\n",
       " 'folder',\n",
       " 'save',\n",
       " 'session',\n",
       " 'website',\n",
       " 'close',\n",
       " 'stackoverflow',\n",
       " 'better',\n",
       " 'username',\n",
       " 'python',\n",
       " 'bit',\n",
       " 'box',\n",
       " 'json',\n",
       " 'menu',\n",
       " 'login',\n",
       " 'console',\n",
       " 'via',\n",
       " 'l',\n",
       " 'usr',\n",
       " 'looks',\n",
       " 'anything',\n",
       " 'def',\n",
       " 'none',\n",
       " 'https',\n",
       " 'char',\n",
       " 'lang',\n",
       " 'within',\n",
       " 'multiple',\n",
       " 'activity',\n",
       " 'everything',\n",
       " 'appreciated',\n",
       " 'tag',\n",
       " 'insert',\n",
       " 'ajax',\n",
       " 'had',\n",
       " 'config',\n",
       " 'again',\n",
       " 'understand',\n",
       " 'parent',\n",
       " 'final',\n",
       " 'install',\n",
       " 'catch',\n",
       " 'browser',\n",
       " 'objects',\n",
       " 'store',\n",
       " 'os',\n",
       " 'ideas',\n",
       " 'double',\n",
       " 'thing',\n",
       " 'contains',\n",
       " 'look',\n",
       " 'given',\n",
       " 'jpg',\n",
       " 'template',\n",
       " 'font',\n",
       " 'reference',\n",
       " 'those',\n",
       " 'answer',\n",
       " 'going',\n",
       " 'connect',\n",
       " 'debug',\n",
       " 'frame',\n",
       " 'imgur',\n",
       " 'rows',\n",
       " 'down',\n",
       " 'ruby',\n",
       " 'foo',\n",
       " 'around',\n",
       " 'always',\n",
       " 'too',\n",
       " 'state',\n",
       " 'remove',\n",
       " 'block',\n",
       " 'status',\n",
       " 'intent',\n",
       " 'yes',\n",
       " 'must',\n",
       " 'errors',\n",
       " 'thank',\n",
       " '08',\n",
       " 'layout',\n",
       " 'en',\n",
       " 'did',\n",
       " 'far',\n",
       " 'u',\n",
       " 'core',\n",
       " 'memory',\n",
       " 'most',\n",
       " 'installed',\n",
       " 'single',\n",
       " 'w',\n",
       " 'framework',\n",
       " 'bar',\n",
       " 'linux',\n",
       " 'machine',\n",
       " 'specific',\n",
       " 'loop',\n",
       " 'give',\n",
       " '14',\n",
       " 'delete',\n",
       " 'begin',\n",
       " 'take',\n",
       " 'ip',\n",
       " 'lot',\n",
       " 'returns',\n",
       " '02',\n",
       " 'facebook',\n",
       " 'device',\n",
       " 're',\n",
       " 'things',\n",
       " 'creating',\n",
       " 'base',\n",
       " 'ok',\n",
       " 'nothing',\n",
       " 'missing',\n",
       " 'module',\n",
       " 'fields',\n",
       " 'host',\n",
       " 'own',\n",
       " 'uses',\n",
       " 'support',\n",
       " 'androidruntime',\n",
       " 'might',\n",
       " 'similar',\n",
       " 'integer',\n",
       " 'float',\n",
       " 'actually',\n",
       " 'figure',\n",
       " '50',\n",
       " 'configuration',\n",
       " '2010',\n",
       " 'alert',\n",
       " 'tell',\n",
       " 'us',\n",
       " 'execute',\n",
       " 'std',\n",
       " 'tostring',\n",
       " 'few',\n",
       " 'empty',\n",
       " 'note',\n",
       " 'changes',\n",
       " 'xmlns',\n",
       " 'pass',\n",
       " 'failed',\n",
       " 'off',\n",
       " 'settings',\n",
       " 'network',\n",
       " 'either',\n",
       " 'package',\n",
       " 'interface',\n",
       " '2011',\n",
       " 'eclipse',\n",
       " 'mode',\n",
       " 'plugin',\n",
       " '25',\n",
       " 'elements',\n",
       " 'methods',\n",
       " 'classes',\n",
       " 'rb',\n",
       " 'head',\n",
       " 'shows',\n",
       " 'properties',\n",
       " 'video',\n",
       " '18',\n",
       " 'const',\n",
       " 'port',\n",
       " 'pages',\n",
       " 'break',\n",
       " 'columns',\n",
       " 'made',\n",
       " 'bin',\n",
       " 'cell',\n",
       " 'functions',\n",
       " '23',\n",
       " 'allow',\n",
       " '21',\n",
       " 'nbsp',\n",
       " 'generated',\n",
       " 'q',\n",
       " 'submit',\n",
       " 'once',\n",
       " 'setup',\n",
       " 'product',\n",
       " 'grid',\n",
       " '22',\n",
       " 'reason',\n",
       " 'copy',\n",
       " 'h2',\n",
       " 'times',\n",
       " 'aspx',\n",
       " 'sub',\n",
       " 'auto',\n",
       " 'target',\n",
       " 'dev',\n",
       " 'available',\n",
       " '04',\n",
       " 'jar',\n",
       " 'keep',\n",
       " 'filter',\n",
       " 'required',\n",
       " 'side',\n",
       " 'convert',\n",
       " 'tables',\n",
       " 'handle',\n",
       " 'center',\n",
       " 'println',\n",
       " 'task',\n",
       " 'selected',\n",
       " 'join',\n",
       " 'setting',\n",
       " 'security',\n",
       " 'gets',\n",
       " 'category',\n",
       " '17',\n",
       " '05',\n",
       " 'lines',\n",
       " 'under',\n",
       " 'though',\n",
       " 'boolean',\n",
       " 'gems',\n",
       " 'localhost',\n",
       " 'entity',\n",
       " 'isn',\n",
       " 'space',\n",
       " 'admin',\n",
       " 'sun',\n",
       " 'fix',\n",
       " 'dll',\n",
       " 'implement',\n",
       " 'internal',\n",
       " 'wondering',\n",
       " 'nil',\n",
       " 'init',\n",
       " 'val',\n",
       " '09',\n",
       " 'parameters',\n",
       " '19',\n",
       " 'binding',\n",
       " 'rails',\n",
       " 'txt',\n",
       " 'maybe',\n",
       " 'level',\n",
       " 'super',\n",
       " 'defined',\n",
       " 'several',\n",
       " 'child',\n",
       " 'non',\n",
       " '03',\n",
       " 'parameter',\n",
       " 'place',\n",
       " '24',\n",
       " 'sort',\n",
       " 'needs',\n",
       " 'language',\n",
       " 'adding',\n",
       " 'py',\n",
       " 'dialog',\n",
       " 'cache',\n",
       " 'statement',\n",
       " 'section',\n",
       " 'kind',\n",
       " 'problems',\n",
       " 'total',\n",
       " '27',\n",
       " 'margin',\n",
       " 'utf',\n",
       " 'filename',\n",
       " 'nsstring',\n",
       " 'writing',\n",
       " 'border',\n",
       " 'account',\n",
       " 'changed',\n",
       " 'computer',\n",
       " 'correctly',\n",
       " 'match',\n",
       " '255',\n",
       " 'tab',\n",
       " 'bundle',\n",
       " 'define',\n",
       " 'didn',\n",
       " 'basically',\n",
       " 'warning',\n",
       " 'solve',\n",
       " 'release',\n",
       " 'protected',\n",
       " 'hr',\n",
       " 'structure',\n",
       " 'replace',\n",
       " 'frac',\n",
       " 'software',\n",
       " 'foreach',\n",
       " 'extends',\n",
       " 'thought',\n",
       " '29',\n",
       " 'full',\n",
       " 'byte',\n",
       " 'word',\n",
       " 'stored',\n",
       " 'ie',\n",
       " '_',\n",
       " 'day',\n",
       " 'sender',\n",
       " 'record',\n",
       " 'clear',\n",
       " 'never',\n",
       " 'services',\n",
       " 'were',\n",
       " 'pdf',\n",
       " '32',\n",
       " 'stop',\n",
       " '07',\n",
       " 'resources',\n",
       " 'models',\n",
       " 'springframework',\n",
       " 'move',\n",
       " 'alloc',\n",
       " 'people',\n",
       " 'started',\n",
       " 'checked',\n",
       " 'virtual',\n",
       " 'attribute',\n",
       " 'gives',\n",
       " 'suggestions',\n",
       " 'container',\n",
       " 'ubuntu',\n",
       " 'numbers',\n",
       " 'old',\n",
       " 'mail',\n",
       " 'sample',\n",
       " 'unknown',\n",
       " 'bool',\n",
       " 'small',\n",
       " 'align',\n",
       " 'collection',\n",
       " 'success',\n",
       " 'visual',\n",
       " 'person',\n",
       " 'compile',\n",
       " 'mean',\n",
       " 'encoding',\n",
       " 'standard',\n",
       " 'iphone',\n",
       " 'param',\n",
       " 'append',\n",
       " 'events',\n",
       " 'projects',\n",
       " 'bytes',\n",
       " 'str',\n",
       " '06',\n",
       " 'rather',\n",
       " 'written',\n",
       " 'resource',\n",
       " 'reading',\n",
       " 'wrap_content',\n",
       " 'exists',\n",
       " 'details',\n",
       " 'certain',\n",
       " 'widget',\n",
       " 'handler',\n",
       " 'download',\n",
       " 'parse',\n",
       " 'stuff',\n",
       " '40',\n",
       " 'until',\n",
       " 'expected',\n",
       " 'documentation',\n",
       " 'variables',\n",
       " 'socket',\n",
       " 'git',\n",
       " 'little',\n",
       " 'servlet',\n",
       " 'hello',\n",
       " 'th',\n",
       " 'modules',\n",
       " 'environment',\n",
       " 'generate',\n",
       " 'says',\n",
       " 'development',\n",
       " 'easy',\n",
       " 'simply',\n",
       " 'large',\n",
       " 'three',\n",
       " '31',\n",
       " 'exe',\n",
       " 'game',\n",
       " 'approach',\n",
       " 'calls',\n",
       " 'args',\n",
       " 'normal',\n",
       " 'bottom',\n",
       " 'global',\n",
       " 'views',\n",
       " 'types',\n",
       " 'javax',\n",
       " 'upload',\n",
       " 'invoke',\n",
       " 'tags',\n",
       " 'hibernate',\n",
       " 'switch',\n",
       " 'stream',\n",
       " 'onclick',\n",
       " 'making',\n",
       " 'remote',\n",
       " 'layout_width',\n",
       " 'entry',\n",
       " 'layout_height',\n",
       " 'im',\n",
       " 'namespace',\n",
       " 'll',\n",
       " 'whole',\n",
       " 'he',\n",
       " 'great',\n",
       " 'original',\n",
       " 'textview',\n",
       " 'io',\n",
       " 'hidden',\n",
       " 'component',\n",
       " 'internet',\n",
       " 'free',\n",
       " 'comment',\n",
       " 'obj',\n",
       " 'links',\n",
       " 'phone',\n",
       " 'happens',\n",
       " 'loaded',\n",
       " 'developer',\n",
       " 'messages',\n",
       " 'testing',\n",
       " 'names',\n",
       " 'automatically',\n",
       " 'whether',\n",
       " 'mvc',\n",
       " 'studio',\n",
       " '2008',\n",
       " 'come',\n",
       " 'play',\n",
       " 'course',\n",
       " 'points',\n",
       " '200',\n",
       " 'chrome',\n",
       " 'xsl',\n",
       " 'appears',\n",
       " 'related',\n",
       " 'pattern',\n",
       " 'loading',\n",
       " 'pretty',\n",
       " 'who',\n",
       " 'provide',\n",
       " 'basic',\n",
       " 'django',\n",
       " 'require',\n",
       " 'range',\n",
       " 'per',\n",
       " 'player',\n",
       " 'means',\n",
       " 'particular',\n",
       " 'padding',\n",
       " 'quite',\n",
       " 'real',\n",
       " 'tools',\n",
       " 'forms',\n",
       " 'util',\n",
       " 'datetime',\n",
       " 'character',\n",
       " 'buffer',\n",
       " 'random',\n",
       " '_post',\n",
       " 'vector',\n",
       " 'itself',\n",
       " 'ms',\n",
       " 'icon',\n",
       " 'valid',\n",
       " 'records',\n",
       " 'cursor',\n",
       " 'implementation',\n",
       " 'achieve',\n",
       " 'active',\n",
       " 'drive',\n",
       " 'yet',\n",
       " 'goes',\n",
       " 'calling',\n",
       " 'runat',\n",
       " 'max',\n",
       " 'maps',\n",
       " 'unable',\n",
       " 'bind',\n",
       " 'params',\n",
       " 'except',\n",
       " 'takes',\n",
       " 'displayed',\n",
       " 'hard',\n",
       " 'report',\n",
       " 'share',\n",
       " 'common',\n",
       " 'makes',\n",
       " 'issues',\n",
       " 'firefox',\n",
       " 'temp',\n",
       " 'runs',\n",
       " 'follows',\n",
       " 'seen',\n",
       " 'limit',\n",
       " 'properly',\n",
       " '64',\n",
       " 'company',\n",
       " 'characters',\n",
       " 'doc',\n",
       " 'applications',\n",
       " 'step',\n",
       " 'native',\n",
       " 'tool',\n",
       " 'h1',\n",
       " 'attr',\n",
       " 'sent',\n",
       " 'exist',\n",
       " 'external',\n",
       " 'duplicate',\n",
       " 'controls',\n",
       " 'complete',\n",
       " 'sum',\n",
       " 'exactly',\n",
       " 'directly',\n",
       " 'schema',\n",
       " 'panel',\n",
       " 'posts',\n",
       " 'min',\n",
       " 'performance',\n",
       " 'job',\n",
       " 'dim',\n",
       " 'difference',\n",
       " 'matrix',\n",
       " 'seconds',\n",
       " 'separate',\n",
       " 'expression',\n",
       " 'docs',\n",
       " 'syntax',\n",
       " 'examples',\n",
       " 'textbox',\n",
       " 'article',\n",
       " 'book',\n",
       " 'render',\n",
       " 'thinking',\n",
       " 'flash',\n",
       " 'mac',\n",
       " 'checkbox',\n",
       " 'printf',\n",
       " 'runtime',\n",
       " 'canvas',\n",
       " 'existing',\n",
       " '28',\n",
       " 'shared',\n",
       " 'servers',\n",
       " 'customer',\n",
       " 'desktop',\n",
       " 'buttons',\n",
       " 'previous',\n",
       " 'math',\n",
       " 'master',\n",
       " '000',\n",
       " 'blog',\n",
       " 'comes',\n",
       " 'wordpress']"
      ]
     },
     "execution_count": 22,
     "metadata": {},
     "output_type": "execute_result"
    }
   ],
   "source": [
    "# show the vocabulary in order of \n",
    "cvmodel.vocabulary"
   ]
  },
  {
   "cell_type": "code",
   "execution_count": 23,
   "metadata": {},
   "outputs": [
    {
     "data": {
      "text/plain": [
       "['customer',\n",
       " 'desktop',\n",
       " 'buttons',\n",
       " 'previous',\n",
       " 'math',\n",
       " 'master',\n",
       " '000',\n",
       " 'blog',\n",
       " 'comes',\n",
       " 'wordpress']"
      ]
     },
     "execution_count": 23,
     "metadata": {},
     "output_type": "execute_result"
    }
   ],
   "source": [
    "# show the last 10 terms in the vocabulary\n",
    "cvmodel.vocabulary[-10:]"
   ]
  },
  {
   "cell_type": "markdown",
   "metadata": {},
   "source": [
    "# Inter-document Frequency"
   ]
  },
  {
   "cell_type": "code",
   "execution_count": 24,
   "metadata": {},
   "outputs": [
    {
     "data": {
      "text/plain": [
       "Row(Body=\"<p>I'd like to check if an uploaded file is an image file (e.g png, jpg, jpeg, gif, bmp) or another file. The problem is that I'm using Uploadify to upload the files, which changes the mime type and gives a 'text/octal' or something as the mime type, no matter which file type you upload.</p>\\n\\n<p>Is there a way to check if the uploaded file is an image apart from checking the file extension using PHP?</p>\\n\", Id=1, Tags='php image-processing file-upload upload mime-types', Title='How to check if an uploaded file is an image without mime type?', oneTag='php', words=['p', 'i', 'd', 'like', 'to', 'check', 'if', 'an', 'uploaded', 'file', 'is', 'an', 'image', 'file', 'e', 'g', 'png', 'jpg', 'jpeg', 'gif', 'bmp', 'or', 'another', 'file', 'the', 'problem', 'is', 'that', 'i', 'm', 'using', 'uploadify', 'to', 'upload', 'the', 'files', 'which', 'changes', 'the', 'mime', 'type', 'and', 'gives', 'a', 'text', 'octal', 'or', 'something', 'as', 'the', 'mime', 'type', 'no', 'matter', 'which', 'file', 'type', 'you', 'upload', 'p', 'p', 'is', 'there', 'a', 'way', 'to', 'check', 'if', 'the', 'uploaded', 'file', 'is', 'an', 'image', 'apart', 'from', 'checking', 'the', 'file', 'extension', 'using', 'php', 'p'], BodyLength=83, NumParagraphs=2, NumLinks=0, NumFeatures=DenseVector([83.0, 2.0, 0.0]), ScaledNumFeatures=DenseVector([0.9997, 0.0241, 0.0]), ScaledNumFeatures2=DenseVector([0.4325, 0.7037, 0.0]), TF=SparseVector(1000, {0: 4.0, 1: 6.0, 2: 2.0, 3: 3.0, 5: 2.0, 8: 4.0, 9: 1.0, 15: 1.0, 21: 2.0, 28: 1.0, 31: 1.0, 35: 3.0, 36: 1.0, 43: 2.0, 45: 2.0, 48: 1.0, 51: 1.0, 57: 6.0, 61: 2.0, 71: 1.0, 78: 1.0, 84: 3.0, 86: 1.0, 94: 1.0, 97: 1.0, 99: 1.0, 100: 1.0, 115: 1.0, 147: 2.0, 152: 1.0, 169: 1.0, 241: 1.0, 283: 1.0, 306: 1.0, 350: 2.0, 490: 1.0, 578: 1.0, 759: 1.0, 832: 2.0}), TFIDF=SparseVector(1000, {0: 0.0026, 1: 0.7515, 2: 0.1374, 3: 0.3184, 5: 0.3823, 8: 1.0754, 9: 0.3344, 15: 0.5899, 21: 1.8551, 28: 1.1263, 31: 1.1113, 35: 3.3134, 36: 1.2545, 43: 2.3741, 45: 2.3753, 48: 1.2254, 51: 1.1879, 57: 11.0264, 61: 2.8957, 71: 2.1945, 78: 1.6947, 84: 6.5898, 86: 1.6136, 94: 2.3569, 97: 1.8218, 99: 2.6292, 100: 1.9206, 115: 2.3592, 147: 5.4841, 152: 2.1116, 169: 2.6328, 241: 2.5745, 283: 3.2325, 306: 3.2668, 350: 6.2367, 490: 3.8893, 578: 3.6182, 759: 3.7771, 832: 8.8964}))"
      ]
     },
     "execution_count": 24,
     "metadata": {},
     "output_type": "execute_result"
    }
   ],
   "source": [
    "idf = IDF(inputCol=\"TF\", outputCol=\"TFIDF\")\n",
    "idfModel = idf.fit(df)\n",
    "df = idfModel.transform(df)\n",
    "df.head()"
   ]
  },
  {
   "cell_type": "markdown",
   "metadata": {},
   "source": [
    "# StringIndexer"
   ]
  },
  {
   "cell_type": "code",
   "execution_count": 25,
   "metadata": {},
   "outputs": [],
   "source": [
    "indexer = StringIndexer(inputCol=\"oneTag\", outputCol=\"label\")\n",
    "df = indexer.fit(df).transform(df)"
   ]
  },
  {
   "cell_type": "code",
   "execution_count": 26,
   "metadata": {},
   "outputs": [
    {
     "data": {
      "text/plain": [
       "Row(Body=\"<p>I'd like to check if an uploaded file is an image file (e.g png, jpg, jpeg, gif, bmp) or another file. The problem is that I'm using Uploadify to upload the files, which changes the mime type and gives a 'text/octal' or something as the mime type, no matter which file type you upload.</p>\\n\\n<p>Is there a way to check if the uploaded file is an image apart from checking the file extension using PHP?</p>\\n\", Id=1, Tags='php image-processing file-upload upload mime-types', Title='How to check if an uploaded file is an image without mime type?', oneTag='php', words=['p', 'i', 'd', 'like', 'to', 'check', 'if', 'an', 'uploaded', 'file', 'is', 'an', 'image', 'file', 'e', 'g', 'png', 'jpg', 'jpeg', 'gif', 'bmp', 'or', 'another', 'file', 'the', 'problem', 'is', 'that', 'i', 'm', 'using', 'uploadify', 'to', 'upload', 'the', 'files', 'which', 'changes', 'the', 'mime', 'type', 'and', 'gives', 'a', 'text', 'octal', 'or', 'something', 'as', 'the', 'mime', 'type', 'no', 'matter', 'which', 'file', 'type', 'you', 'upload', 'p', 'p', 'is', 'there', 'a', 'way', 'to', 'check', 'if', 'the', 'uploaded', 'file', 'is', 'an', 'image', 'apart', 'from', 'checking', 'the', 'file', 'extension', 'using', 'php', 'p'], BodyLength=83, NumParagraphs=2, NumLinks=0, NumFeatures=DenseVector([83.0, 2.0, 0.0]), ScaledNumFeatures=DenseVector([0.9997, 0.0241, 0.0]), ScaledNumFeatures2=DenseVector([0.4325, 0.7037, 0.0]), TF=SparseVector(1000, {0: 4.0, 1: 6.0, 2: 2.0, 3: 3.0, 5: 2.0, 8: 4.0, 9: 1.0, 15: 1.0, 21: 2.0, 28: 1.0, 31: 1.0, 35: 3.0, 36: 1.0, 43: 2.0, 45: 2.0, 48: 1.0, 51: 1.0, 57: 6.0, 61: 2.0, 71: 1.0, 78: 1.0, 84: 3.0, 86: 1.0, 94: 1.0, 97: 1.0, 99: 1.0, 100: 1.0, 115: 1.0, 147: 2.0, 152: 1.0, 169: 1.0, 241: 1.0, 283: 1.0, 306: 1.0, 350: 2.0, 490: 1.0, 578: 1.0, 759: 1.0, 832: 2.0}), TFIDF=SparseVector(1000, {0: 0.0026, 1: 0.7515, 2: 0.1374, 3: 0.3184, 5: 0.3823, 8: 1.0754, 9: 0.3344, 15: 0.5899, 21: 1.8551, 28: 1.1263, 31: 1.1113, 35: 3.3134, 36: 1.2545, 43: 2.3741, 45: 2.3753, 48: 1.2254, 51: 1.1879, 57: 11.0264, 61: 2.8957, 71: 2.1945, 78: 1.6947, 84: 6.5898, 86: 1.6136, 94: 2.3569, 97: 1.8218, 99: 2.6292, 100: 1.9206, 115: 2.3592, 147: 5.4841, 152: 2.1116, 169: 2.6328, 241: 2.5745, 283: 3.2325, 306: 3.2668, 350: 6.2367, 490: 3.8893, 578: 3.6182, 759: 3.7771, 832: 8.8964}), label=3.0)"
      ]
     },
     "execution_count": 26,
     "metadata": {},
     "output_type": "execute_result"
    }
   ],
   "source": [
    "df.head()"
   ]
  },
  {
   "cell_type": "markdown",
   "metadata": {},
   "source": [
    "# Feature Engineering: \n",
    "# Question 1\n",
    "Select the question with Id = 1112. How many words does its body contain (check the BodyLength column)?\n",
    "\n"
   ]
  },
  {
   "cell_type": "code",
   "execution_count": 29,
   "metadata": {},
   "outputs": [
    {
     "name": "stdout",
     "output_type": "stream",
     "text": [
      "+--------------------+----+--------------------+--------------------+------+--------------------+----------+-------------+--------+--------------+--------------------+--------------------+--------------------+--------------------+-----+\n",
      "|                Body|  Id|                Tags|               Title|oneTag|               words|BodyLength|NumParagraphs|NumLinks|   NumFeatures|   ScaledNumFeatures|  ScaledNumFeatures2|                  TF|               TFIDF|label|\n",
      "+--------------------+----+--------------------+--------------------+------+--------------------+----------+-------------+--------+--------------+--------------------+--------------------+--------------------+--------------------+-----+\n",
      "|<p>I submitted my...|1112|iphone app-store ...|iPhone app releas...|iphone|[p, i, submitted,...|        63|            1|       0|[63.0,1.0,0.0]|[0.99987404748359...|[0.32825169441613...|(1000,[0,1,2,3,8,...|(1000,[0,1,2,3,8,...|  7.0|\n",
      "+--------------------+----+--------------------+--------------------+------+--------------------+----------+-------------+--------+--------------+--------------------+--------------------+--------------------+--------------------+-----+\n",
      "\n"
     ]
    }
   ],
   "source": [
    "df.where(df.Id == 1112).show()"
   ]
  },
  {
   "cell_type": "markdown",
   "metadata": {},
   "source": [
    "# Question 2\n",
    "Create a new column that concatenates the question title and body. Apply the same functions we used before to compute the number of words in this combined column. What's the value in this new column for Id = 5123?"
   ]
  },
  {
   "cell_type": "code",
   "execution_count": 32,
   "metadata": {},
   "outputs": [],
   "source": [
    "df = df.withColumn(\"Desc\", concat(col(\"Title\"), lit(' '), col(\"Body\")))"
   ]
  },
  {
   "cell_type": "code",
   "execution_count": 33,
   "metadata": {},
   "outputs": [],
   "source": [
    "df = df.withColumn(\"DescLength\", body_length(df.words2))"
   ]
  },
  {
   "cell_type": "code",
   "execution_count": 34,
   "metadata": {},
   "outputs": [
    {
     "data": {
      "text/plain": [
       "[Row(Body=\"<p>Here's an interesting experiment with using Git. Think of Github's ‘pages’ feature: I write a program in one branch (e.g. <code>master</code>), and a documentation website is kept in another, entirely unrelated branch (e.g. <code>gh-pages</code>).</p>\\n\\n<p>I can generate documentation in HTML format from the code in my <code>master</code>-branch, but I want to publish this as part of my documentation website in the <code>gh-pages</code> branch.</p>\\n\\n<p>How could I intelligently generate my docs from my code in <code>master</code>, move it to my <code>gh-pages</code> branch and commit the changes there? Should I use a post-commit hook or something? Would this be a good idea, or is it utterly foolish?</p>\\n\", Id=5123, Tags='git branch', Title='Git branch experiment', oneTag='git', words=['p', 'here', 's', 'an', 'interesting', 'experiment', 'with', 'using', 'git', 'think', 'of', 'github', 's', 'pages', 'feature', 'i', 'write', 'a', 'program', 'in', 'one', 'branch', 'e', 'g', 'code', 'master', 'code', 'and', 'a', 'documentation', 'website', 'is', 'kept', 'in', 'another', 'entirely', 'unrelated', 'branch', 'e', 'g', 'code', 'gh', 'pages', 'code', 'p', 'p', 'i', 'can', 'generate', 'documentation', 'in', 'html', 'format', 'from', 'the', 'code', 'in', 'my', 'code', 'master', 'code', 'branch', 'but', 'i', 'want', 'to', 'publish', 'this', 'as', 'part', 'of', 'my', 'documentation', 'website', 'in', 'the', 'code', 'gh', 'pages', 'code', 'branch', 'p', 'p', 'how', 'could', 'i', 'intelligently', 'generate', 'my', 'docs', 'from', 'my', 'code', 'in', 'code', 'master', 'code', 'move', 'it', 'to', 'my', 'code', 'gh', 'pages', 'code', 'branch', 'and', 'commit', 'the', 'changes', 'there', 'should', 'i', 'use', 'a', 'post', 'commit', 'hook', 'or', 'something', 'would', 'this', 'be', 'a', 'good', 'idea', 'or', 'is', 'it', 'utterly', 'foolish', 'p'], BodyLength=132, NumParagraphs=3, NumLinks=0, NumFeatures=DenseVector([132.0, 3.0, 0.0]), ScaledNumFeatures=DenseVector([0.9997, 0.0227, 0.0]), ScaledNumFeatures2=DenseVector([0.6878, 1.0555, 0.0]), TF=SparseVector(1000, {0: 6.0, 1: 3.0, 2: 5.0, 3: 2.0, 4: 14.0, 5: 4.0, 8: 2.0, 9: 2.0, 11: 6.0, 12: 2.0, 13: 2.0, 14: 2.0, 20: 5.0, 23: 1.0, 24: 1.0, 25: 1.0, 27: 1.0, 28: 1.0, 31: 2.0, 33: 2.0, 35: 1.0, 39: 1.0, 43: 2.0, 45: 1.0, 51: 1.0, 62: 1.0, 63: 1.0, 65: 1.0, 79: 1.0, 85: 1.0, 94: 2.0, 105: 1.0, 116: 1.0, 152: 1.0, 162: 1.0, 232: 1.0, 241: 1.0, 266: 1.0, 283: 2.0, 298: 1.0, 327: 1.0, 384: 1.0, 390: 1.0, 401: 1.0, 403: 1.0, 442: 2.0, 578: 1.0, 604: 4.0, 752: 1.0, 803: 3.0, 806: 1.0, 813: 2.0, 972: 1.0, 995: 3.0}), TFIDF=SparseVector(1000, {0: 0.004, 1: 0.3758, 2: 0.3435, 3: 0.2123, 4: 6.9051, 5: 0.7645, 8: 0.5377, 9: 0.6688, 11: 2.1062, 12: 0.9377, 13: 1.0236, 14: 0.9608, 20: 4.084, 23: 0.6747, 24: 0.8116, 25: 0.7961, 27: 0.9597, 28: 1.1263, 31: 2.2226, 33: 2.5489, 35: 1.1045, 39: 0.994, 43: 2.3741, 45: 1.1877, 51: 1.1879, 62: 1.3929, 63: 1.4954, 65: 1.4652, 79: 1.6129, 85: 1.6752, 94: 4.7139, 105: 2.3998, 116: 2.0079, 152: 2.1116, 162: 2.1749, 232: 3.0145, 241: 2.5745, 266: 2.8771, 283: 6.465, 298: 3.0993, 327: 2.8508, 384: 3.0822, 390: 3.1874, 401: 3.0422, 403: 3.4722, 442: 6.967, 578: 3.6182, 604: 15.3273, 752: 4.0218, 803: 11.9603, 806: 5.0283, 813: 8.0215, 972: 4.3757, 995: 14.268}), label=30.0, Desc=\"Git branch experiment <p>Here's an interesting experiment with using Git. Think of Github's ‘pages’ feature: I write a program in one branch (e.g. <code>master</code>), and a documentation website is kept in another, entirely unrelated branch (e.g. <code>gh-pages</code>).</p>\\n\\n<p>I can generate documentation in HTML format from the code in my <code>master</code>-branch, but I want to publish this as part of my documentation website in the <code>gh-pages</code> branch.</p>\\n\\n<p>How could I intelligently generate my docs from my code in <code>master</code>, move it to my <code>gh-pages</code> branch and commit the changes there? Should I use a post-commit hook or something? Would this be a good idea, or is it utterly foolish?</p>\\n\", words2=['git', 'branch', 'experiment', 'p', 'here', 's', 'an', 'interesting', 'experiment', 'with', 'using', 'git', 'think', 'of', 'github', 's', 'pages', 'feature', 'i', 'write', 'a', 'program', 'in', 'one', 'branch', 'e', 'g', 'code', 'master', 'code', 'and', 'a', 'documentation', 'website', 'is', 'kept', 'in', 'another', 'entirely', 'unrelated', 'branch', 'e', 'g', 'code', 'gh', 'pages', 'code', 'p', 'p', 'i', 'can', 'generate', 'documentation', 'in', 'html', 'format', 'from', 'the', 'code', 'in', 'my', 'code', 'master', 'code', 'branch', 'but', 'i', 'want', 'to', 'publish', 'this', 'as', 'part', 'of', 'my', 'documentation', 'website', 'in', 'the', 'code', 'gh', 'pages', 'code', 'branch', 'p', 'p', 'how', 'could', 'i', 'intelligently', 'generate', 'my', 'docs', 'from', 'my', 'code', 'in', 'code', 'master', 'code', 'move', 'it', 'to', 'my', 'code', 'gh', 'pages', 'code', 'branch', 'and', 'commit', 'the', 'changes', 'there', 'should', 'i', 'use', 'a', 'post', 'commit', 'hook', 'or', 'something', 'would', 'this', 'be', 'a', 'good', 'idea', 'or', 'is', 'it', 'utterly', 'foolish', 'p'], DescLength=135)]"
      ]
     },
     "execution_count": 34,
     "metadata": {},
     "output_type": "execute_result"
    }
   ],
   "source": [
    "df.where(df.Id == 5123).collect()"
   ]
  },
  {
   "cell_type": "markdown",
   "metadata": {},
   "source": [
    "# Create a Vector\n",
    "Create a vector from the combined Title + Body length column. In the next few questions, you'll try different normalizer/scaler methods on this new column."
   ]
  },
  {
   "cell_type": "code",
   "execution_count": 35,
   "metadata": {},
   "outputs": [],
   "source": [
    "assembler2 = VectorAssembler(inputCols=[\"DescLength\"], outputCol=\"DescVec\")\n",
    "df = assembler2.transform(df)"
   ]
  },
  {
   "cell_type": "markdown",
   "metadata": {},
   "source": [
    "# Question 3\n",
    "Using the Normalizer method what's the normalized value for question Id = 512?"
   ]
  },
  {
   "cell_type": "code",
   "execution_count": 36,
   "metadata": {},
   "outputs": [],
   "source": [
    "scaler_q1 = Normalizer(inputCol=\"DescVec\", outputCol=\"DescVecNormalizer\")\n",
    "df = scaler_q1.transform(df)"
   ]
  },
  {
   "cell_type": "code",
   "execution_count": 37,
   "metadata": {},
   "outputs": [
    {
     "data": {
      "text/plain": [
       "[Row(Body=\"<p>I'd like to have a better understanding of what optimizations HotSpot might generate for my Java code at run time. </p>\\n\\n<p>Is there a way to see the optimized code that HotSpot is using after it's been running for a while?</p>\\n\", Id=512, Tags='java optimization hotspot', Title='How can I see the code that HotSpot generates after optimizing?', oneTag='java', words=['p', 'i', 'd', 'like', 'to', 'have', 'a', 'better', 'understanding', 'of', 'what', 'optimizations', 'hotspot', 'might', 'generate', 'for', 'my', 'java', 'code', 'at', 'run', 'time', 'p', 'p', 'is', 'there', 'a', 'way', 'to', 'see', 'the', 'optimized', 'code', 'that', 'hotspot', 'is', 'using', 'after', 'it', 's', 'been', 'running', 'for', 'a', 'while', 'p'], BodyLength=46, NumParagraphs=2, NumLinks=0, NumFeatures=DenseVector([46.0, 2.0, 0.0]), ScaledNumFeatures=DenseVector([0.9991, 0.0434, 0.0]), ScaledNumFeatures2=DenseVector([0.2397, 0.7037, 0.0]), TF=SparseVector(1000, {0: 4.0, 1: 1.0, 2: 1.0, 3: 2.0, 4: 2.0, 5: 3.0, 8: 2.0, 13: 1.0, 14: 1.0, 15: 1.0, 16: 2.0, 19: 1.0, 20: 1.0, 33: 1.0, 44: 1.0, 45: 1.0, 48: 1.0, 51: 1.0, 55: 1.0, 66: 1.0, 86: 1.0, 115: 1.0, 127: 1.0, 161: 1.0, 179: 1.0, 192: 1.0, 226: 1.0, 229: 1.0, 261: 1.0, 445: 1.0, 560: 1.0, 813: 1.0}), TFIDF=SparseVector(1000, {0: 0.0026, 1: 0.1253, 2: 0.0687, 3: 0.2123, 4: 0.9864, 5: 0.5734, 8: 0.5377, 13: 0.5118, 14: 0.4804, 15: 0.5899, 16: 1.2834, 19: 0.6386, 20: 0.8168, 33: 1.2744, 44: 1.7166, 45: 1.1877, 48: 1.2254, 51: 1.1879, 55: 1.2149, 66: 2.8503, 86: 1.6136, 115: 2.3592, 127: 2.2042, 161: 2.406, 179: 2.307, 192: 2.388, 226: 2.6154, 229: 2.5421, 261: 2.7592, 445: 3.1896, 560: 3.4496, 813: 4.0107}), label=2.0, Desc=\"How can I see the code that HotSpot generates after optimizing? <p>I'd like to have a better understanding of what optimizations HotSpot might generate for my Java code at run time. </p>\\n\\n<p>Is there a way to see the optimized code that HotSpot is using after it's been running for a while?</p>\\n\", words2=['how', 'can', 'i', 'see', 'the', 'code', 'that', 'hotspot', 'generates', 'after', 'optimizing', 'p', 'i', 'd', 'like', 'to', 'have', 'a', 'better', 'understanding', 'of', 'what', 'optimizations', 'hotspot', 'might', 'generate', 'for', 'my', 'java', 'code', 'at', 'run', 'time', 'p', 'p', 'is', 'there', 'a', 'way', 'to', 'see', 'the', 'optimized', 'code', 'that', 'hotspot', 'is', 'using', 'after', 'it', 's', 'been', 'running', 'for', 'a', 'while', 'p'], DescLength=57, DescVec=DenseVector([57.0]), DescVecNormalizer=DenseVector([1.0]))]"
      ]
     },
     "execution_count": 37,
     "metadata": {},
     "output_type": "execute_result"
    }
   ],
   "source": [
    "df.where(df.Id == 512).collect()"
   ]
  },
  {
   "cell_type": "markdown",
   "metadata": {},
   "source": [
    "# Question 4\n",
    "Using the StandardScaler method (scaling both the mean and the standard deviation) what's the normalized value for question Id = 512?"
   ]
  },
  {
   "cell_type": "code",
   "execution_count": 38,
   "metadata": {},
   "outputs": [],
   "source": [
    "scaler_q2 = StandardScaler(inputCol=\"DescVec\", outputCol=\"DescVecStandardScaler4\", withMean=False, withStd=False)\n",
    "scalerModel_q2 = scaler_q2.fit(df)\n",
    "df = scalerModel_q2.transform(df)"
   ]
  },
  {
   "cell_type": "code",
   "execution_count": 39,
   "metadata": {},
   "outputs": [
    {
     "data": {
      "text/plain": [
       "[Row(Body=\"<p>I'd like to have a better understanding of what optimizations HotSpot might generate for my Java code at run time. </p>\\n\\n<p>Is there a way to see the optimized code that HotSpot is using after it's been running for a while?</p>\\n\", Id=512, Tags='java optimization hotspot', Title='How can I see the code that HotSpot generates after optimizing?', oneTag='java', words=['p', 'i', 'd', 'like', 'to', 'have', 'a', 'better', 'understanding', 'of', 'what', 'optimizations', 'hotspot', 'might', 'generate', 'for', 'my', 'java', 'code', 'at', 'run', 'time', 'p', 'p', 'is', 'there', 'a', 'way', 'to', 'see', 'the', 'optimized', 'code', 'that', 'hotspot', 'is', 'using', 'after', 'it', 's', 'been', 'running', 'for', 'a', 'while', 'p'], BodyLength=46, NumParagraphs=2, NumLinks=0, NumFeatures=DenseVector([46.0, 2.0, 0.0]), ScaledNumFeatures=DenseVector([0.9991, 0.0434, 0.0]), ScaledNumFeatures2=DenseVector([0.2397, 0.7037, 0.0]), TF=SparseVector(1000, {0: 4.0, 1: 1.0, 2: 1.0, 3: 2.0, 4: 2.0, 5: 3.0, 8: 2.0, 13: 1.0, 14: 1.0, 15: 1.0, 16: 2.0, 19: 1.0, 20: 1.0, 33: 1.0, 44: 1.0, 45: 1.0, 48: 1.0, 51: 1.0, 55: 1.0, 66: 1.0, 86: 1.0, 115: 1.0, 127: 1.0, 161: 1.0, 179: 1.0, 192: 1.0, 226: 1.0, 229: 1.0, 261: 1.0, 445: 1.0, 560: 1.0, 813: 1.0}), TFIDF=SparseVector(1000, {0: 0.0026, 1: 0.1253, 2: 0.0687, 3: 0.2123, 4: 0.9864, 5: 0.5734, 8: 0.5377, 13: 0.5118, 14: 0.4804, 15: 0.5899, 16: 1.2834, 19: 0.6386, 20: 0.8168, 33: 1.2744, 44: 1.7166, 45: 1.1877, 48: 1.2254, 51: 1.1879, 55: 1.2149, 66: 2.8503, 86: 1.6136, 115: 2.3592, 127: 2.2042, 161: 2.406, 179: 2.307, 192: 2.388, 226: 2.6154, 229: 2.5421, 261: 2.7592, 445: 3.1896, 560: 3.4496, 813: 4.0107}), label=2.0, Desc=\"How can I see the code that HotSpot generates after optimizing? <p>I'd like to have a better understanding of what optimizations HotSpot might generate for my Java code at run time. </p>\\n\\n<p>Is there a way to see the optimized code that HotSpot is using after it's been running for a while?</p>\\n\", words2=['how', 'can', 'i', 'see', 'the', 'code', 'that', 'hotspot', 'generates', 'after', 'optimizing', 'p', 'i', 'd', 'like', 'to', 'have', 'a', 'better', 'understanding', 'of', 'what', 'optimizations', 'hotspot', 'might', 'generate', 'for', 'my', 'java', 'code', 'at', 'run', 'time', 'p', 'p', 'is', 'there', 'a', 'way', 'to', 'see', 'the', 'optimized', 'code', 'that', 'hotspot', 'is', 'using', 'after', 'it', 's', 'been', 'running', 'for', 'a', 'while', 'p'], DescLength=57, DescVec=DenseVector([57.0]), DescVecNormalizer=DenseVector([1.0]), DescVecStandardScaler4=DenseVector([57.0]))]"
      ]
     },
     "execution_count": 39,
     "metadata": {},
     "output_type": "execute_result"
    }
   ],
   "source": [
    "df.where(df.Id == 512).collect()"
   ]
  },
  {
   "cell_type": "markdown",
   "metadata": {},
   "source": [
    "# Question 5\n",
    "Using the MinMAxScaler method what's the normalized value for question Id = 512?"
   ]
  },
  {
   "cell_type": "code",
   "execution_count": 40,
   "metadata": {},
   "outputs": [],
   "source": [
    "from pyspark.ml.feature import MinMaxScaler\n",
    "scaler_q3 = MinMaxScaler(inputCol=\"DescVec\", outputCol=\"DescVecMinMaxScaler\")\n",
    "scalerModel_q3 = scaler_q3.fit(df)\n",
    "df = scalerModel_q3.transform(df)"
   ]
  },
  {
   "cell_type": "code",
   "execution_count": 41,
   "metadata": {},
   "outputs": [
    {
     "data": {
      "text/plain": [
       "[Row(Body=\"<p>I'd like to have a better understanding of what optimizations HotSpot might generate for my Java code at run time. </p>\\n\\n<p>Is there a way to see the optimized code that HotSpot is using after it's been running for a while?</p>\\n\", Id=512, Tags='java optimization hotspot', Title='How can I see the code that HotSpot generates after optimizing?', oneTag='java', words=['p', 'i', 'd', 'like', 'to', 'have', 'a', 'better', 'understanding', 'of', 'what', 'optimizations', 'hotspot', 'might', 'generate', 'for', 'my', 'java', 'code', 'at', 'run', 'time', 'p', 'p', 'is', 'there', 'a', 'way', 'to', 'see', 'the', 'optimized', 'code', 'that', 'hotspot', 'is', 'using', 'after', 'it', 's', 'been', 'running', 'for', 'a', 'while', 'p'], BodyLength=46, NumParagraphs=2, NumLinks=0, NumFeatures=DenseVector([46.0, 2.0, 0.0]), ScaledNumFeatures=DenseVector([0.9991, 0.0434, 0.0]), ScaledNumFeatures2=DenseVector([0.2397, 0.7037, 0.0]), TF=SparseVector(1000, {0: 4.0, 1: 1.0, 2: 1.0, 3: 2.0, 4: 2.0, 5: 3.0, 8: 2.0, 13: 1.0, 14: 1.0, 15: 1.0, 16: 2.0, 19: 1.0, 20: 1.0, 33: 1.0, 44: 1.0, 45: 1.0, 48: 1.0, 51: 1.0, 55: 1.0, 66: 1.0, 86: 1.0, 115: 1.0, 127: 1.0, 161: 1.0, 179: 1.0, 192: 1.0, 226: 1.0, 229: 1.0, 261: 1.0, 445: 1.0, 560: 1.0, 813: 1.0}), TFIDF=SparseVector(1000, {0: 0.0026, 1: 0.1253, 2: 0.0687, 3: 0.2123, 4: 0.9864, 5: 0.5734, 8: 0.5377, 13: 0.5118, 14: 0.4804, 15: 0.5899, 16: 1.2834, 19: 0.6386, 20: 0.8168, 33: 1.2744, 44: 1.7166, 45: 1.1877, 48: 1.2254, 51: 1.1879, 55: 1.2149, 66: 2.8503, 86: 1.6136, 115: 2.3592, 127: 2.2042, 161: 2.406, 179: 2.307, 192: 2.388, 226: 2.6154, 229: 2.5421, 261: 2.7592, 445: 3.1896, 560: 3.4496, 813: 4.0107}), label=2.0, Desc=\"How can I see the code that HotSpot generates after optimizing? <p>I'd like to have a better understanding of what optimizations HotSpot might generate for my Java code at run time. </p>\\n\\n<p>Is there a way to see the optimized code that HotSpot is using after it's been running for a while?</p>\\n\", words2=['how', 'can', 'i', 'see', 'the', 'code', 'that', 'hotspot', 'generates', 'after', 'optimizing', 'p', 'i', 'd', 'like', 'to', 'have', 'a', 'better', 'understanding', 'of', 'what', 'optimizations', 'hotspot', 'might', 'generate', 'for', 'my', 'java', 'code', 'at', 'run', 'time', 'p', 'p', 'is', 'there', 'a', 'way', 'to', 'see', 'the', 'optimized', 'code', 'that', 'hotspot', 'is', 'using', 'after', 'it', 's', 'been', 'running', 'for', 'a', 'while', 'p'], DescLength=57, DescVec=DenseVector([57.0]), DescVecNormalizer=DenseVector([1.0]), DescVecStandardScaler4=DenseVector([57.0]), DescVecMinMaxScaler=DenseVector([0.0062]))]"
      ]
     },
     "execution_count": 41,
     "metadata": {},
     "output_type": "execute_result"
    }
   ],
   "source": [
    "df.where(df.Id == 512).collect()"
   ]
  },
  {
   "cell_type": "markdown",
   "metadata": {},
   "source": [
    "# LR:\n",
    "# Question\n",
    "Build a linear regression model using the length of the combined Title + Body fields. What is the value of r^2 when fitting a model with maxIter=5, regParam=0.0, fitIntercept=False, solver=\"normal\"?"
   ]
  },
  {
   "cell_type": "code",
   "execution_count": 45,
   "metadata": {},
   "outputs": [],
   "source": [
    "number_of_tags = udf(lambda x: len(x.split(\" \")), IntegerType())\n",
    "df = df.withColumn(\"NumTags\", number_of_tags(df.Tags))"
   ]
  },
  {
   "cell_type": "code",
   "execution_count": 46,
   "metadata": {},
   "outputs": [
    {
     "name": "stdout",
     "output_type": "stream",
     "text": [
      "+-------+------------------+\n",
      "|NumTags|   avg(DescLength)|\n",
      "+-------+------------------+\n",
      "|      1|143.68776158175783|\n",
      "|      2| 162.1539186134137|\n",
      "|      3|181.26021064340088|\n",
      "|      4|201.46530249110322|\n",
      "|      5|227.64375266524522|\n",
      "+-------+------------------+\n",
      "\n"
     ]
    }
   ],
   "source": [
    "df.groupby(\"NumTags\").agg(avg(col(\"DescLength\"))).orderBy(\"NumTags\").show()"
   ]
  },
  {
   "cell_type": "code",
   "execution_count": 47,
   "metadata": {},
   "outputs": [
    {
     "data": {
      "text/plain": [
       "Row(label=5, features=DenseVector([96.0]))"
      ]
     },
     "execution_count": 47,
     "metadata": {},
     "output_type": "execute_result"
    }
   ],
   "source": [
    "data = df.select(col(\"NumTags\").alias(\"label\"), col(\"DescVec\").alias(\"features\"))\n",
    "data.head()"
   ]
  },
  {
   "cell_type": "code",
   "execution_count": 43,
   "metadata": {},
   "outputs": [],
   "source": [
    "lr = LinearRegression(maxIter=5, regParam=0.0, fitIntercept=False, solver=\"normal\")"
   ]
  },
  {
   "cell_type": "code",
   "execution_count": 48,
   "metadata": {},
   "outputs": [],
   "source": [
    "lrModel_q1 = lr.fit(data)"
   ]
  },
  {
   "cell_type": "code",
   "execution_count": 49,
   "metadata": {},
   "outputs": [
    {
     "data": {
      "text/plain": [
       "0.4455149596308462"
      ]
     },
     "execution_count": 49,
     "metadata": {},
     "output_type": "execute_result"
    }
   ],
   "source": [
    "lrModel_q1.summary.r2"
   ]
  },
  {
   "cell_type": "markdown",
   "metadata": {},
   "source": [
    "# K-means\n",
    "\n",
    "# Question 1\n",
    "How many times greater is the Description Length of the longest question than the Description Length of the shortest question (rounded to the nearest whole number)?\n",
    "\n",
    "Tip: Don't forget to import Spark SQL's aggregate functions that can operate on DataFrame columns."
   ]
  },
  {
   "cell_type": "code",
   "execution_count": 50,
   "metadata": {},
   "outputs": [
    {
     "name": "stdout",
     "output_type": "stream",
     "text": [
      "+---------------+\n",
      "|min(DescLength)|\n",
      "+---------------+\n",
      "|             10|\n",
      "+---------------+\n",
      "\n"
     ]
    }
   ],
   "source": [
    "df.agg(min(\"DescLength\")).show()"
   ]
  },
  {
   "cell_type": "code",
   "execution_count": 51,
   "metadata": {},
   "outputs": [
    {
     "name": "stdout",
     "output_type": "stream",
     "text": [
      "+---------------+\n",
      "|max(DescLength)|\n",
      "+---------------+\n",
      "|           7532|\n",
      "+---------------+\n",
      "\n"
     ]
    }
   ],
   "source": [
    "df.agg(max(\"DescLength\")).show()"
   ]
  },
  {
   "cell_type": "markdown",
   "metadata": {},
   "source": [
    "# Question 2\n",
    "What is the mean and standard deviation of the Description length?"
   ]
  },
  {
   "cell_type": "code",
   "execution_count": 52,
   "metadata": {},
   "outputs": [
    {
     "name": "stdout",
     "output_type": "stream",
     "text": [
      "+---------------+-----------------------+\n",
      "|avg(DescLength)|stddev_samp(DescLength)|\n",
      "+---------------+-----------------------+\n",
      "|      180.28187|     192.10819533505023|\n",
      "+---------------+-----------------------+\n",
      "\n"
     ]
    }
   ],
   "source": [
    "df.agg(avg(\"DescLength\"), stddev(\"DescLength\")).show()"
   ]
  },
  {
   "cell_type": "markdown",
   "metadata": {},
   "source": [
    "# Question 3\n",
    "Let's use K-means to create 5 clusters of Description lengths. Set the random seed to 42 and fit a 5-class K-means model on the Description length column (you can use KMeans().setParams(...) ). What length is the center of the cluster representing the longest questions?"
   ]
  },
  {
   "cell_type": "code",
   "execution_count": 55,
   "metadata": {},
   "outputs": [],
   "source": [
    "kmeans = KMeans().setParams(featuresCol=\"DescVec\", predictionCol=\"DescGroup\", k=5, seed=42)\n",
    "model = kmeans.fit(df)\n",
    "df = model.transform(df)"
   ]
  },
  {
   "cell_type": "code",
   "execution_count": 56,
   "metadata": {},
   "outputs": [
    {
     "data": {
      "text/plain": [
       "Row(Body=\"<p>I'd like to check if an uploaded file is an image file (e.g png, jpg, jpeg, gif, bmp) or another file. The problem is that I'm using Uploadify to upload the files, which changes the mime type and gives a 'text/octal' or something as the mime type, no matter which file type you upload.</p>\\n\\n<p>Is there a way to check if the uploaded file is an image apart from checking the file extension using PHP?</p>\\n\", Id=1, Tags='php image-processing file-upload upload mime-types', Title='How to check if an uploaded file is an image without mime type?', oneTag='php', words=['p', 'i', 'd', 'like', 'to', 'check', 'if', 'an', 'uploaded', 'file', 'is', 'an', 'image', 'file', 'e', 'g', 'png', 'jpg', 'jpeg', 'gif', 'bmp', 'or', 'another', 'file', 'the', 'problem', 'is', 'that', 'i', 'm', 'using', 'uploadify', 'to', 'upload', 'the', 'files', 'which', 'changes', 'the', 'mime', 'type', 'and', 'gives', 'a', 'text', 'octal', 'or', 'something', 'as', 'the', 'mime', 'type', 'no', 'matter', 'which', 'file', 'type', 'you', 'upload', 'p', 'p', 'is', 'there', 'a', 'way', 'to', 'check', 'if', 'the', 'uploaded', 'file', 'is', 'an', 'image', 'apart', 'from', 'checking', 'the', 'file', 'extension', 'using', 'php', 'p'], BodyLength=83, NumParagraphs=2, NumLinks=0, NumFeatures=DenseVector([83.0, 2.0, 0.0]), ScaledNumFeatures=DenseVector([0.9997, 0.0241, 0.0]), ScaledNumFeatures2=DenseVector([0.4325, 0.7037, 0.0]), TF=SparseVector(1000, {0: 4.0, 1: 6.0, 2: 2.0, 3: 3.0, 5: 2.0, 8: 4.0, 9: 1.0, 15: 1.0, 21: 2.0, 28: 1.0, 31: 1.0, 35: 3.0, 36: 1.0, 43: 2.0, 45: 2.0, 48: 1.0, 51: 1.0, 57: 6.0, 61: 2.0, 71: 1.0, 78: 1.0, 84: 3.0, 86: 1.0, 94: 1.0, 97: 1.0, 99: 1.0, 100: 1.0, 115: 1.0, 147: 2.0, 152: 1.0, 169: 1.0, 241: 1.0, 283: 1.0, 306: 1.0, 350: 2.0, 490: 1.0, 578: 1.0, 759: 1.0, 832: 2.0}), TFIDF=SparseVector(1000, {0: 0.0026, 1: 0.7515, 2: 0.1374, 3: 0.3184, 5: 0.3823, 8: 1.0754, 9: 0.3344, 15: 0.5899, 21: 1.8551, 28: 1.1263, 31: 1.1113, 35: 3.3134, 36: 1.2545, 43: 2.3741, 45: 2.3753, 48: 1.2254, 51: 1.1879, 57: 11.0264, 61: 2.8957, 71: 2.1945, 78: 1.6947, 84: 6.5898, 86: 1.6136, 94: 2.3569, 97: 1.8218, 99: 2.6292, 100: 1.9206, 115: 2.3592, 147: 5.4841, 152: 2.1116, 169: 2.6328, 241: 2.5745, 283: 3.2325, 306: 3.2668, 350: 6.2367, 490: 3.8893, 578: 3.6182, 759: 3.7771, 832: 8.8964}), label=3.0, Desc=\"How to check if an uploaded file is an image without mime type? <p>I'd like to check if an uploaded file is an image file (e.g png, jpg, jpeg, gif, bmp) or another file. The problem is that I'm using Uploadify to upload the files, which changes the mime type and gives a 'text/octal' or something as the mime type, no matter which file type you upload.</p>\\n\\n<p>Is there a way to check if the uploaded file is an image apart from checking the file extension using PHP?</p>\\n\", words2=['how', 'to', 'check', 'if', 'an', 'uploaded', 'file', 'is', 'an', 'image', 'without', 'mime', 'type', 'p', 'i', 'd', 'like', 'to', 'check', 'if', 'an', 'uploaded', 'file', 'is', 'an', 'image', 'file', 'e', 'g', 'png', 'jpg', 'jpeg', 'gif', 'bmp', 'or', 'another', 'file', 'the', 'problem', 'is', 'that', 'i', 'm', 'using', 'uploadify', 'to', 'upload', 'the', 'files', 'which', 'changes', 'the', 'mime', 'type', 'and', 'gives', 'a', 'text', 'octal', 'or', 'something', 'as', 'the', 'mime', 'type', 'no', 'matter', 'which', 'file', 'type', 'you', 'upload', 'p', 'p', 'is', 'there', 'a', 'way', 'to', 'check', 'if', 'the', 'uploaded', 'file', 'is', 'an', 'image', 'apart', 'from', 'checking', 'the', 'file', 'extension', 'using', 'php', 'p'], DescLength=96, DescVec=DenseVector([96.0]), DescVecNormalizer=DenseVector([1.0]), DescVecStandardScaler4=DenseVector([96.0]), DescVecMinMaxScaler=DenseVector([0.0114]), NumTags=5, DescGroup=0)"
      ]
     },
     "execution_count": 56,
     "metadata": {},
     "output_type": "execute_result"
    }
   ],
   "source": [
    "df.head()"
   ]
  },
  {
   "cell_type": "code",
   "execution_count": 57,
   "metadata": {},
   "outputs": [
    {
     "name": "stdout",
     "output_type": "stream",
     "text": [
      "+---------+------------------+------------------+-----------------+\n",
      "|DescGroup|   avg(DescLength)|      avg(NumTags)|count(DescLength)|\n",
      "+---------+------------------+------------------+-----------------+\n",
      "|        0| 96.71484436347646|   2.7442441184785|            63674|\n",
      "|        4| 241.0267434466191| 3.093549070868367|            28306|\n",
      "|        2|499.83863263173606|3.2294372294372296|             6699|\n",
      "|        1|      1074.2109375|3.2864583333333335|             1152|\n",
      "|        3|2731.0828402366865|  3.42603550295858|              169|\n",
      "+---------+------------------+------------------+-----------------+\n",
      "\n"
     ]
    }
   ],
   "source": [
    "df.groupby(\"DescGroup\").agg(avg(col(\"DescLength\")),avg(col(\"NumTags\")), \\\n",
    "                            count(col(\"DescLength\"))).orderBy(\"avg(DescLength)\").show()"
   ]
  },
  {
   "cell_type": "markdown",
   "metadata": {},
   "source": [
    "# Model Tuning\n",
    "\n",
    "# Question\n",
    "What is the accuracy of the best model trained with the parameter grid described above (and keeping all other parameters at their default value computed on the 10% untouched data?\n",
    "\n",
    "### Step 1. Train Test Split\n",
    "As a first step break your data set into 90% of training data and set aside 10%. Set random seed to `42`."
   ]
  },
  {
   "cell_type": "code",
   "execution_count": 71,
   "metadata": {},
   "outputs": [
    {
     "data": {
      "text/plain": [
       "DataFrame[Body: string, Id: bigint, Tags: string, Title: string, oneTag: string]"
      ]
     },
     "execution_count": 71,
     "metadata": {},
     "output_type": "execute_result"
    }
   ],
   "source": [
    "stack_overflow_data = '../spark_project_data/Train_onetag_small.json'\n",
    "df = spark.read.json(stack_overflow_data)\n",
    "df.persist()"
   ]
  },
  {
   "cell_type": "code",
   "execution_count": 72,
   "metadata": {},
   "outputs": [],
   "source": [
    "rest, validation = df.randomSplit([0.9, 0.1], seed=42)"
   ]
  },
  {
   "cell_type": "markdown",
   "metadata": {},
   "source": [
    "### Step 2. Build Pipeline"
   ]
  },
  {
   "cell_type": "code",
   "execution_count": 73,
   "metadata": {},
   "outputs": [],
   "source": [
    "# Already done\n",
    "regexTokenizer = RegexTokenizer(inputCol=\"Body\", outputCol=\"words\", pattern=\"\\\\W\")\n",
    "cv = CountVectorizer(inputCol=\"words\", outputCol=\"TF\", vocabSize=1000)\n",
    "idf = IDF(inputCol=\"TF\", outputCol=\"features\")\n",
    "indexer = StringIndexer(inputCol=\"oneTag\", outputCol=\"label\")\n",
    "pipeline = Pipeline(stages=[regexTokenizer, cv, idf, indexer, lr])\n",
    "\n",
    "lr =  LogisticRegression(maxIter=10, regParam=0.0, elasticNetParam=0)"
   ]
  },
  {
   "cell_type": "markdown",
   "metadata": {},
   "source": [
    "### Step 3. Tune Model\n",
    "On the first 90% of the data let's find the most accurate logistic regression model using 3-fold cross-validation with the following parameter grid:\n",
    "\n",
    "- CountVectorizer vocabulary size: `[1000, 5000]`\n",
    "- LogisticRegression regularization parameter: `[0.0, 0.1]`\n",
    "- LogisticRegression max Iteration number: `[10]`"
   ]
  },
  {
   "cell_type": "code",
   "execution_count": 74,
   "metadata": {},
   "outputs": [],
   "source": [
    "paramGrid = ParamGridBuilder() \\\n",
    "    .addGrid(cv.vocabSize,[1000, 5000]) \\\n",
    "    .addGrid(lr.regParam,[0.0, 0.1]) \\\n",
    "    .build()\n",
    "\n",
    "\n",
    "crossval = CrossValidator(estimator=pipeline,\n",
    "                          estimatorParamMaps=paramGrid,\n",
    "                          evaluator=MulticlassClassificationEvaluator(),\n",
    "                          numFolds=3)"
   ]
  },
  {
   "cell_type": "code",
   "execution_count": 75,
   "metadata": {},
   "outputs": [],
   "source": [
    "cvModel_q1 = crossval.fit(rest)"
   ]
  },
  {
   "cell_type": "code",
   "execution_count": 76,
   "metadata": {},
   "outputs": [
    {
     "data": {
      "text/plain": [
       "[0.30433727418265316,\n",
       " 0.30433727418265316,\n",
       " 0.36935241731827617,\n",
       " 0.36935241731827617]"
      ]
     },
     "execution_count": 76,
     "metadata": {},
     "output_type": "execute_result"
    }
   ],
   "source": [
    "cvModel_q1.avgMetrics"
   ]
  },
  {
   "cell_type": "code",
   "execution_count": 77,
   "metadata": {},
   "outputs": [],
   "source": [
    "results = cvModel_q1.transform(validation)"
   ]
  },
  {
   "cell_type": "markdown",
   "metadata": {},
   "source": [
    "### Step 4: Compute Accuracy of Best Model"
   ]
  },
  {
   "cell_type": "code",
   "execution_count": 78,
   "metadata": {},
   "outputs": [
    {
     "name": "stdout",
     "output_type": "stream",
     "text": [
      "3892\n",
      "9919\n"
     ]
    }
   ],
   "source": [
    "print(results.filter(results.label == results.prediction).count())\n",
    "print(results.count())"
   ]
  },
  {
   "cell_type": "code",
   "execution_count": 80,
   "metadata": {},
   "outputs": [
    {
     "data": {
      "text/plain": [
       "0.392378263937897"
      ]
     },
     "execution_count": 80,
     "metadata": {},
     "output_type": "execute_result"
    }
   ],
   "source": [
    "3892/9919"
   ]
  },
  {
   "cell_type": "code",
   "execution_count": null,
   "metadata": {},
   "outputs": [],
   "source": []
  }
 ],
 "metadata": {
  "kernelspec": {
   "display_name": "Python 3",
   "language": "python",
   "name": "python3"
  },
  "language_info": {
   "codemirror_mode": {
    "name": "ipython",
    "version": 3
   },
   "file_extension": ".py",
   "mimetype": "text/x-python",
   "name": "python",
   "nbconvert_exporter": "python",
   "pygments_lexer": "ipython3",
   "version": "3.7.3"
  }
 },
 "nbformat": 4,
 "nbformat_minor": 2
}
